{
 "cells": [
  {
   "attachments": {},
   "cell_type": "markdown",
   "metadata": {},
   "source": [
    "# digit recognition using homemade neural network"
   ]
  },
  {
   "cell_type": "code",
   "execution_count": 55,
   "metadata": {},
   "outputs": [],
   "source": [
    "import numpy\n",
    "import pandas\n",
    "from matplotlib import pyplot"
   ]
  },
  {
   "cell_type": "code",
   "execution_count": 56,
   "metadata": {},
   "outputs": [],
   "source": [
    "data = pandas.read_csv('mnist.csv')\n",
    "data = numpy.array(data)\n",
    "rows, columns = data.shape\n",
    "numpy.random.shuffle(data)"
   ]
  },
  {
   "attachments": {},
   "cell_type": "markdown",
   "metadata": {},
   "source": [
    "let's seperate the data into a training and testing set."
   ]
  },
  {
   "cell_type": "code",
   "execution_count": 57,
   "metadata": {},
   "outputs": [],
   "source": [
    "dataTest = data[0:3000].T\n",
    "yTest = dataTest[0]\n",
    "xTest = dataTest[1:columns]\n",
    "xTest = xTest / 255\n",
    "\n",
    "dataTrain = data[3000:rows].T\n",
    "yTrain = dataTrain[0]\n",
    "xTrain = dataTrain[1:columns]\n",
    "xTrain = xTrain / 255"
   ]
  },
  {
   "attachments": {},
   "cell_type": "markdown",
   "metadata": {},
   "source": [
    "now let's create weights and biases for our neural network."
   ]
  },
  {
   "cell_type": "code",
   "execution_count": 58,
   "metadata": {},
   "outputs": [],
   "source": [
    "def createParameters():\n",
    "    w1 = numpy.random.rand(10, 784) - 0.5\n",
    "    b1 = numpy.random.rand(10, 1) - 0.5\n",
    "    w2 = numpy.random.rand(10, 10) - 0.5\n",
    "    b2 = numpy.random.rand(10, 1) - 0.5\n",
    "    return w1, b1, w2, b2"
   ]
  },
  {
   "attachments": {},
   "cell_type": "markdown",
   "metadata": {},
   "source": [
    "step 1 - forward propagation"
   ]
  },
  {
   "cell_type": "code",
   "execution_count": 59,
   "metadata": {},
   "outputs": [],
   "source": [
    "def ReLU(z):\n",
    "    return numpy.maximum(0, z)\n",
    "\n",
    "def softmax(z):\n",
    "    exp = numpy.exp(z - numpy.max(z)) \n",
    "    return exp / exp.sum(axis=0)\n",
    "\n",
    "def forwardPropagation(w1, b1, w2, b2, x):\n",
    "    z1 = w1.dot(x) + b1\n",
    "    a1 = ReLU(z1)\n",
    "    z2 = w2.dot(a1) + b2\n",
    "    a2 = softmax(z2)\n",
    "    return z1, a1, z2, a2"
   ]
  },
  {
   "attachments": {},
   "cell_type": "markdown",
   "metadata": {},
   "source": [
    "step 2 - backward propagation"
   ]
  },
  {
   "cell_type": "code",
   "execution_count": 60,
   "metadata": {},
   "outputs": [],
   "source": [
    "def oneHot(y):\n",
    "    oneHotY = numpy.zeros((y.size, y.max() + 1))\n",
    "    oneHotY[numpy.arange(y.size), y] = 1\n",
    "    oneHotY = oneHotY.T\n",
    "    return oneHotY\n",
    "\n",
    "def derivative_ReLU(z):\n",
    "    return z > 0\n",
    "\n",
    "def backwardPropagation(z1, a1, z2, a2, w2, x, y):\n",
    "    oneHotY = oneHot(y)\n",
    "    rows = y.size\n",
    "    dz2 = a2 - oneHotY\n",
    "    dw2 = 1 / rows * dz2.dot(a1.T)\n",
    "    db2 = 1 / rows * numpy.sum(dz2)\n",
    "    dz1 = w2.T.dot(dz2) * derivative_ReLU(z1)\n",
    "    dw1 = 1 / rows * dz2.dot(x.T)\n",
    "    db1 = 1 / rows * numpy.sum(dz1)\n",
    "    return dw1, db1, dw2, db2"
   ]
  },
  {
   "attachments": {},
   "cell_type": "markdown",
   "metadata": {},
   "source": [
    "step 3 - adjust weight and bias"
   ]
  },
  {
   "cell_type": "code",
   "execution_count": 61,
   "metadata": {},
   "outputs": [],
   "source": [
    "def adjustParameters(w1, b1, w2, b2, dw1, db1, dw2, db2, alpha):\n",
    "    w1 = w1 - alpha * dw1\n",
    "    b1 = b1 - alpha * db1\n",
    "    w2 = w2 - alpha * dw2\n",
    "    b2 = b2 - alpha * db2\n",
    "    return w1, b1, w2, b2"
   ]
  },
  {
   "cell_type": "code",
   "execution_count": 62,
   "metadata": {},
   "outputs": [],
   "source": [
    "def getPredictions(a2):\n",
    "    return numpy.argmax(a2, 0)\n",
    "\n",
    "def findAccuracy(predictions, y):\n",
    "    print(predictions, y)\n",
    "    return numpy.sum(predictions == y) / y.size\n",
    "\n",
    "def gradientDescent(x, y, iterations, alpha):\n",
    "    w1, b1, w2, b2 = createParameters()\n",
    "    for i in range(iterations):\n",
    "        z1, a1, z2, a2 = forwardPropagation(w1, b1, w2, b2, x)\n",
    "        dw1, db1, dw2, db2 = backwardPropagation(z1, a1, z2, a2, w2, x, y)\n",
    "        w1, b1, w2, b2 = adjustParameters(w1, b1, w2, b2, dw1, db1, dw2, db2, alpha)\n",
    "        if (i % 10 == 0):\n",
    "            print(\"iteration: \", i)\n",
    "            print(\"accuracy: \", findAccuracy(getPredictions(a2), y))\n",
    "    return w1, b1, w2, b2"
   ]
  },
  {
   "attachments": {},
   "cell_type": "markdown",
   "metadata": {},
   "source": [
    "let's train the neural network with our partitioned data."
   ]
  },
  {
   "cell_type": "code",
   "execution_count": 63,
   "metadata": {},
   "outputs": [
    {
     "name": "stdout",
     "output_type": "stream",
     "text": [
      "iteration:  0\n",
      "[1 1 1 ... 9 1 1] [7 8 9 ... 6 8 3]\n",
      "accuracy:  0.11664102564102564\n",
      "iteration:  10\n",
      "[0 3 2 ... 9 8 7] [7 8 9 ... 6 8 3]\n",
      "accuracy:  0.1803846153846154\n",
      "iteration:  20\n",
      "[7 3 7 ... 9 8 7] [7 8 9 ... 6 8 3]\n",
      "accuracy:  0.32271794871794873\n",
      "iteration:  30\n",
      "[7 3 9 ... 6 8 2] [7 8 9 ... 6 8 3]\n",
      "accuracy:  0.4478974358974359\n",
      "iteration:  40\n",
      "[7 3 9 ... 6 8 2] [7 8 9 ... 6 8 3]\n",
      "accuracy:  0.5404615384615384\n",
      "iteration:  50\n",
      "[7 3 9 ... 6 1 2] [7 8 9 ... 6 8 3]\n",
      "accuracy:  0.6142820512820513\n",
      "iteration:  60\n",
      "[7 3 9 ... 6 1 2] [7 8 9 ... 6 8 3]\n",
      "accuracy:  0.6665384615384615\n",
      "iteration:  70\n",
      "[7 3 9 ... 6 1 2] [7 8 9 ... 6 8 3]\n",
      "accuracy:  0.7028461538461539\n",
      "iteration:  80\n",
      "[7 3 9 ... 6 1 2] [7 8 9 ... 6 8 3]\n",
      "accuracy:  0.7281025641025641\n",
      "iteration:  90\n",
      "[7 3 9 ... 6 1 2] [7 8 9 ... 6 8 3]\n",
      "accuracy:  0.7455897435897436\n",
      "iteration:  100\n",
      "[7 3 9 ... 6 1 2] [7 8 9 ... 6 8 3]\n",
      "accuracy:  0.7596923076923077\n",
      "iteration:  110\n",
      "[7 3 9 ... 6 1 2] [7 8 9 ... 6 8 3]\n",
      "accuracy:  0.7711282051282051\n",
      "iteration:  120\n",
      "[7 3 9 ... 6 1 3] [7 8 9 ... 6 8 3]\n",
      "accuracy:  0.7806153846153846\n",
      "iteration:  130\n",
      "[7 3 9 ... 6 1 3] [7 8 9 ... 6 8 3]\n",
      "accuracy:  0.7888974358974359\n",
      "iteration:  140\n",
      "[7 3 9 ... 6 1 3] [7 8 9 ... 6 8 3]\n",
      "accuracy:  0.795974358974359\n",
      "iteration:  150\n",
      "[7 3 9 ... 6 1 3] [7 8 9 ... 6 8 3]\n",
      "accuracy:  0.8018717948717948\n",
      "iteration:  160\n",
      "[7 3 9 ... 6 1 3] [7 8 9 ... 6 8 3]\n",
      "accuracy:  0.808\n",
      "iteration:  170\n",
      "[7 3 9 ... 6 1 3] [7 8 9 ... 6 8 3]\n",
      "accuracy:  0.8128717948717948\n",
      "iteration:  180\n",
      "[7 3 9 ... 6 1 3] [7 8 9 ... 6 8 3]\n",
      "accuracy:  0.8162564102564103\n",
      "iteration:  190\n",
      "[7 3 9 ... 6 1 3] [7 8 9 ... 6 8 3]\n",
      "accuracy:  0.8197435897435897\n",
      "iteration:  200\n",
      "[7 3 9 ... 6 1 3] [7 8 9 ... 6 8 3]\n",
      "accuracy:  0.8232307692307692\n",
      "iteration:  210\n",
      "[7 3 9 ... 6 1 3] [7 8 9 ... 6 8 3]\n",
      "accuracy:  0.8265641025641025\n",
      "iteration:  220\n",
      "[7 3 9 ... 6 1 3] [7 8 9 ... 6 8 3]\n",
      "accuracy:  0.8297435897435897\n",
      "iteration:  230\n",
      "[7 3 9 ... 6 1 3] [7 8 9 ... 6 8 3]\n",
      "accuracy:  0.8324358974358974\n",
      "iteration:  240\n",
      "[7 3 9 ... 6 1 3] [7 8 9 ... 6 8 3]\n",
      "accuracy:  0.8345384615384616\n",
      "iteration:  250\n",
      "[7 3 9 ... 6 1 3] [7 8 9 ... 6 8 3]\n",
      "accuracy:  0.8367435897435898\n",
      "iteration:  260\n",
      "[7 3 9 ... 6 1 3] [7 8 9 ... 6 8 3]\n",
      "accuracy:  0.8386410256410256\n",
      "iteration:  270\n",
      "[7 3 9 ... 6 1 3] [7 8 9 ... 6 8 3]\n",
      "accuracy:  0.8406410256410256\n",
      "iteration:  280\n",
      "[7 3 9 ... 6 1 3] [7 8 9 ... 6 8 3]\n",
      "accuracy:  0.8429230769230769\n",
      "iteration:  290\n",
      "[7 3 9 ... 6 1 3] [7 8 9 ... 6 8 3]\n",
      "accuracy:  0.8443846153846154\n",
      "iteration:  300\n",
      "[7 3 9 ... 6 1 3] [7 8 9 ... 6 8 3]\n",
      "accuracy:  0.8462564102564103\n",
      "iteration:  310\n",
      "[7 3 9 ... 6 1 3] [7 8 9 ... 6 8 3]\n",
      "accuracy:  0.8477948717948718\n",
      "iteration:  320\n",
      "[7 3 9 ... 6 1 3] [7 8 9 ... 6 8 3]\n",
      "accuracy:  0.8492820512820513\n",
      "iteration:  330\n",
      "[7 3 9 ... 6 1 3] [7 8 9 ... 6 8 3]\n",
      "accuracy:  0.8506923076923077\n",
      "iteration:  340\n",
      "[7 3 9 ... 6 1 3] [7 8 9 ... 6 8 3]\n",
      "accuracy:  0.8518461538461538\n",
      "iteration:  350\n",
      "[7 3 9 ... 6 1 3] [7 8 9 ... 6 8 3]\n",
      "accuracy:  0.8528717948717949\n",
      "iteration:  360\n",
      "[7 3 9 ... 6 1 3] [7 8 9 ... 6 8 3]\n",
      "accuracy:  0.854025641025641\n",
      "iteration:  370\n",
      "[7 3 9 ... 6 1 3] [7 8 9 ... 6 8 3]\n",
      "accuracy:  0.8553846153846154\n",
      "iteration:  380\n",
      "[7 3 9 ... 6 1 3] [7 8 9 ... 6 8 3]\n",
      "accuracy:  0.8564871794871795\n",
      "iteration:  390\n",
      "[7 3 9 ... 6 1 3] [7 8 9 ... 6 8 3]\n",
      "accuracy:  0.8573333333333333\n",
      "iteration:  400\n",
      "[7 3 9 ... 6 1 3] [7 8 9 ... 6 8 3]\n",
      "accuracy:  0.8582051282051282\n",
      "iteration:  410\n",
      "[7 3 9 ... 6 1 3] [7 8 9 ... 6 8 3]\n",
      "accuracy:  0.8593589743589743\n",
      "iteration:  420\n",
      "[7 3 9 ... 6 1 3] [7 8 9 ... 6 8 3]\n",
      "accuracy:  0.8604615384615385\n",
      "iteration:  430\n",
      "[7 3 9 ... 6 1 3] [7 8 9 ... 6 8 3]\n",
      "accuracy:  0.8616153846153846\n",
      "iteration:  440\n",
      "[7 3 9 ... 6 1 3] [7 8 9 ... 6 8 3]\n",
      "accuracy:  0.8624871794871795\n",
      "iteration:  450\n",
      "[7 3 9 ... 6 1 3] [7 8 9 ... 6 8 3]\n",
      "accuracy:  0.8635384615384616\n",
      "iteration:  460\n",
      "[7 3 9 ... 6 1 3] [7 8 9 ... 6 8 3]\n",
      "accuracy:  0.8644358974358974\n",
      "iteration:  470\n",
      "[7 3 9 ... 6 1 3] [7 8 9 ... 6 8 3]\n",
      "accuracy:  0.8652564102564102\n",
      "iteration:  480\n",
      "[7 3 9 ... 6 1 3] [7 8 9 ... 6 8 3]\n",
      "accuracy:  0.865897435897436\n",
      "iteration:  490\n",
      "[7 8 9 ... 6 1 3] [7 8 9 ... 6 8 3]\n",
      "accuracy:  0.8669230769230769\n"
     ]
    }
   ],
   "source": [
    "w1, b1, w2, b2 = gradientDescent(xTrain, yTrain, 500, 0.1)"
   ]
  },
  {
   "attachments": {},
   "cell_type": "markdown",
   "metadata": {},
   "source": [
    "~85% accuracy on training set after 500 iterations."
   ]
  },
  {
   "cell_type": "code",
   "execution_count": 70,
   "metadata": {},
   "outputs": [],
   "source": [
    "def makePredictions(x, w1, b1, w2, b2):\n",
    "    _, _, _, a2 = forwardPropagation(w1, b1, w2, b2, x)\n",
    "    predictions = getPredictions(a2)\n",
    "    return predictions\n",
    "\n",
    "def checkPrediction(index, W1, b1, W2, b2, dataset = \"train\"):\n",
    "    if dataset == \"train\":\n",
    "        current_image = xTrain[:, index, None]\n",
    "        prediction = makePredictions(xTrain[:, index, None], W1, b1, W2, b2)\n",
    "        label = yTrain[index]\n",
    "    else:\n",
    "        current_image = xTest[:, index, None]\n",
    "        prediction = makePredictions(xTest[:, index, None], W1, b1, W2, b2)\n",
    "        label = yTest[index]\n",
    "    print(\"Prediction: \", prediction)\n",
    "    print(\"Label: \", label)\n",
    "    \n",
    "    current_image = current_image.reshape((28, 28)) * 255\n",
    "    pyplot.gray()\n",
    "    pyplot.imshow(current_image, interpolation='nearest')\n",
    "    pyplot.show()"
   ]
  },
  {
   "attachments": {},
   "cell_type": "markdown",
   "metadata": {},
   "source": [
    "we can test certain indexes to compare our model's prediction and the data's label."
   ]
  },
  {
   "cell_type": "code",
   "execution_count": 65,
   "metadata": {},
   "outputs": [
    {
     "name": "stdout",
     "output_type": "stream",
     "text": [
      "Prediction:  [7]\n",
      "Label:  7\n"
     ]
    },
    {
     "data": {
      "image/png": "[encoded data removed]",
      "text/plain": [
       "<Figure size 640x480 with 1 Axes>"
      ]
     },
     "metadata": {},
     "output_type": "display_data"
    },
    {
     "name": "stdout",
     "output_type": "stream",
     "text": [
      "Prediction:  [8]\n",
      "Label:  8\n"
     ]
    },
    {
     "data": {
      "image/png": "[encoded data removed]",
      "text/plain": [
       "<Figure size 640x480 with 1 Axes>"
      ]
     },
     "metadata": {},
     "output_type": "display_data"
    },
    {
     "name": "stdout",
     "output_type": "stream",
     "text": [
      "Prediction:  [9]\n",
      "Label:  9\n"
     ]
    },
    {
     "data": {
      "image/png": "[encoded data removed]",
      "text/plain": [
       "<Figure size 640x480 with 1 Axes>"
      ]
     },
     "metadata": {},
     "output_type": "display_data"
    },
    {
     "name": "stdout",
     "output_type": "stream",
     "text": [
      "Prediction:  [3]\n",
      "Label:  3\n"
     ]
    },
    {
     "data": {
      "image/png": "[encoded data removed]",
      "text/plain": [
       "<Figure size 640x480 with 1 Axes>"
      ]
     },
     "metadata": {},
     "output_type": "display_data"
    }
   ],
   "source": [
    "checkPrediction(0, w1, b1, w2, b2)\n",
    "checkPrediction(1, w1, b1, w2, b2)\n",
    "checkPrediction(2, w1, b1, w2, b2)\n",
    "checkPrediction(3, w1, b1, w2, b2)"
   ]
  },
  {
   "attachments": {},
   "cell_type": "markdown",
   "metadata": {},
   "source": [
    "now lets apply our model to the testing data set. we don't want to call the `gradientDescent()` function because that would train our model, not test it."
   ]
  },
  {
   "cell_type": "code",
   "execution_count": 66,
   "metadata": {},
   "outputs": [
    {
     "name": "stdout",
     "output_type": "stream",
     "text": [
      "[1 8 9 ... 2 6 8] [1 8 9 ... 2 6 8]\n"
     ]
    },
    {
     "data": {
      "text/plain": [
       "0.8623333333333333"
      ]
     },
     "execution_count": 66,
     "metadata": {},
     "output_type": "execute_result"
    }
   ],
   "source": [
    "testPredictions = makePredictions(xTest, w1, b1, w2, b2)\n",
    "findAccuracy(testPredictions, yTest)"
   ]
  },
  {
   "cell_type": "code",
   "execution_count": 71,
   "metadata": {},
   "outputs": [
    {
     "name": "stdout",
     "output_type": "stream",
     "text": [
      "Prediction:  [1]\n",
      "Label:  1\n"
     ]
    },
    {
     "data": {
      "image/png": "[encoded data removed]",
      "text/plain": [
       "<Figure size 640x480 with 1 Axes>"
      ]
     },
     "metadata": {},
     "output_type": "display_data"
    },
    {
     "name": "stdout",
     "output_type": "stream",
     "text": [
      "Prediction:  [8]\n",
      "Label:  8\n"
     ]
    },
    {
     "data": {
      "image/png": "[encoded data removed]",
      "text/plain": [
       "<Figure size 640x480 with 1 Axes>"
      ]
     },
     "metadata": {},
     "output_type": "display_data"
    },
    {
     "name": "stdout",
     "output_type": "stream",
     "text": [
      "Prediction:  [9]\n",
      "Label:  9\n"
     ]
    },
    {
     "data": {
      "image/png": "[encoded data removed]",
      "text/plain": [
       "<Figure size 640x480 with 1 Axes>"
      ]
     },
     "metadata": {},
     "output_type": "display_data"
    },
    {
     "name": "stdout",
     "output_type": "stream",
     "text": [
      "Prediction:  [6]\n",
      "Label:  6\n"
     ]
    },
    {
     "data": {
      "image/png": "[encoded data removed]",
      "text/plain": [
       "<Figure size 640x480 with 1 Axes>"
      ]
     },
     "metadata": {},
     "output_type": "display_data"
    }
   ],
   "source": [
    "checkPrediction(0, w1, b1, w2, b2, \"test\")\n",
    "checkPrediction(1, w1, b1, w2, b2, \"test\")\n",
    "checkPrediction(2, w1, b1, w2, b2, \"test\")\n",
    "checkPrediction(3, w1, b1, w2, b2, \"test\")"
   ]
  }
 ],
 "metadata": {
  "kernelspec": {
   "display_name": "Python 3",
   "language": "python",
   "name": "python3"
  },
  "language_info": {
   "codemirror_mode": {
    "name": "ipython",
    "version": 3
   },
   "file_extension": ".py",
   "mimetype": "text/x-python",
   "name": "python",
   "nbconvert_exporter": "python",
   "pygments_lexer": "ipython3",
   "version": "3.10.6"
  },
  "orig_nbformat": 4
 },
 "nbformat": 4,
 "nbformat_minor": 2
}
